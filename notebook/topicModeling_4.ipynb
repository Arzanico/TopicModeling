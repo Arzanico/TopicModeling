{
 "cells": [
  {
   "cell_type": "markdown",
   "metadata": {},
   "source": [
    "Analisis de las descripciones e indice de coincidencias"
   ]
  },
  {
   "cell_type": "code",
   "execution_count": 1,
   "metadata": {},
   "outputs": [],
   "source": [
    "import pandas as pd"
   ]
  },
  {
   "cell_type": "code",
   "execution_count": 2,
   "metadata": {},
   "outputs": [],
   "source": [
    "# DataFrame con descripciones y varietales\n",
    "df = pd.read_csv('../data/descripciones.csv', index_col = None)\n",
    "# DataFrame con los varietales y numero de apariciones\n",
    "df1 = pd.read_csv('../data/varRec.csv', index_col = None)\n",
    "# Recuento de paralbras usadas en los varietales.\n",
    "df2 = pd.read_csv('../data/varWordRec.csv', index_col = None)"
   ]
  },
  {
   "cell_type": "code",
   "execution_count": 5,
   "metadata": {},
   "outputs": [
    {
     "data": {
      "text/plain": [
       "'much like regular bottling 2012, comes across rather rough tannic, rustic, earthy, herbal characteristics. nonetheless, think pleasantly unfussy country wine, good companion hearty winter stew.'"
      ]
     },
     "execution_count": 5,
     "metadata": {},
     "output_type": "execute_result"
    }
   ],
   "source": [
    "df.iloc[0,0]"
   ]
  },
  {
   "cell_type": "code",
   "execution_count": 8,
   "metadata": {},
   "outputs": [
    {
     "data": {
      "text/plain": [
       "['soft, supple plum envelopes oaky structure cabernet, supported 15% merlot. coffee chocolate complete picture, finishing strong end, resulting value-priced attractive flavor immediate accessibility.',\n",
       " 'geneseo district offers aromas sour plums enough cigar box tempt nose. bit flat first, acidity tension sour cherries emerges midpalate, bolstered black licorice.',\n",
       " 'oak earth intermingle around robust aromas wet forest floor vineyard-designated pinot hails high-elevation site. small production, offers intense, full-bodied raspberry blackberry steeped smoky spice smooth texture.',\n",
       " 'many erath 2010 vineyard designates, strongly herbal. notes leaf herb create somewhat unripe flavor impressions, touch bitterness finish. fruit passes ripeness sweet tomatoes.']"
      ]
     },
     "execution_count": 8,
     "metadata": {},
     "output_type": "execute_result"
    }
   ],
   "source": [
    "list(df.iloc[1:5,0])"
   ]
  },
  {
   "cell_type": "code",
   "execution_count": 34,
   "metadata": {},
   "outputs": [],
   "source": [
    "def descriptionMatch(desc, vs):\n",
    "    # desc = Descripcion de base type = str\n",
    "    # vs = la descripcion con la que se comparara type = list\n",
    "    \n",
    "    replace = ',.;:'\n",
    "    replaceFor = '    '\n",
    "    print(f'Descripcion :: {desc}')\n",
    "    transmx = str.maketrans(replace, replaceFor)\n",
    "\n",
    "    if type(desc) != str:\n",
    "        error = \"desc no es un string\"\n",
    "        return error\n",
    "    elif type(vs) != list:\n",
    "        error = \"vs no es una lista\"\n",
    "        return error\n",
    "    \n",
    "    desc = desc.translate(transmx)\n",
    "    descLi = desc.split()\n",
    "    descLen = len(descLi)\n",
    "    \n",
    "    matches = dict()\n",
    "    count = 0\n",
    "\n",
    "    for li in vs:\n",
    "        count += 1\n",
    "        match = 0\n",
    "        matchList = list()\n",
    "        li = li.translate(transmx)\n",
    "        vsLi = li.split()\n",
    "        \n",
    "        for w in vsLi:\n",
    "            if w in descLi:\n",
    "                matchList.append(w)\n",
    "                match += 1\n",
    "            else:\n",
    "                continue\n",
    "        # proporcion de macheo\n",
    "        if match > 0:\n",
    "            prop = round((match/descLen), 2)\n",
    "            print(f'Lista de matches :: {matchList}')\n",
    "#             matches.update({desc:(prop, li)})\n",
    "        else:\n",
    "            continue\n",
    "\n",
    "#     return True"
   ]
  },
  {
   "cell_type": "code",
   "execution_count": 37,
   "metadata": {},
   "outputs": [
    {
     "name": "stdout",
     "output_type": "stream",
     "text": [
      "Descripcion :: soft, supple plum envelopes oaky structure cabernet, supported 15% merlot. coffee chocolate complete picture, finishing strong end, resulting value-priced attractive flavor immediate accessibility.\n",
      "Lista de matches :: ['flavor']\n",
      "Lista de matches :: ['plum', 'structure']\n",
      "Lista de matches :: ['structure']\n",
      "Lista de matches :: ['merlot', 'cabernet']\n",
      "Lista de matches :: ['flavor']\n",
      "Lista de matches :: ['plum']\n",
      "Lista de matches :: ['plum']\n",
      "Lista de matches :: ['cabernet', 'merlot']\n",
      "Lista de matches :: ['soft', 'supple']\n",
      "Lista de matches :: ['cabernet', 'soft']\n",
      "Lista de matches :: ['structure']\n",
      "Lista de matches :: ['flavor', 'soft']\n",
      "Lista de matches :: ['finishing']\n",
      "Lista de matches :: ['cabernet', 'merlot']\n",
      "Lista de matches :: ['structure']\n",
      "Lista de matches :: ['plum', 'soft']\n",
      "Lista de matches :: ['plum']\n",
      "Lista de matches :: ['soft']\n",
      "Lista de matches :: ['strong', 'structure', 'strong']\n",
      "Lista de matches :: ['plum']\n",
      "Lista de matches :: ['soft']\n",
      "Lista de matches :: ['structure']\n",
      "Lista de matches :: ['plum']\n",
      "Lista de matches :: ['flavor']\n",
      "Lista de matches :: ['merlot']\n",
      "Lista de matches :: ['supple', 'chocolate']\n",
      "Lista de matches :: ['soft']\n",
      "Lista de matches :: ['chocolate']\n",
      "Lista de matches :: ['oaky']\n",
      "Lista de matches :: ['coffee']\n",
      "Lista de matches :: ['flavor']\n",
      "Lista de matches :: ['cabernet', 'merlot']\n",
      "Lista de matches :: ['chocolate', 'flavor']\n",
      "Lista de matches :: ['cabernet', 'merlot', 'cabernet']\n",
      "Lista de matches :: ['cabernet', 'merlot', 'cabernet', 'coffee']\n",
      "Lista de matches :: ['structure']\n",
      "Lista de matches :: ['soft']\n",
      "Lista de matches :: ['plum', 'flavor']\n",
      "Lista de matches :: ['flavor']\n",
      "Lista de matches :: ['plum', 'soft', 'finishing']\n",
      "Lista de matches :: ['coffee']\n",
      "Lista de matches :: ['flavor', 'coffee']\n",
      "Lista de matches :: ['plum', 'coffee']\n",
      "Lista de matches :: ['chocolate']\n",
      "Lista de matches :: ['strong']\n",
      "Lista de matches :: ['plum']\n",
      "Lista de matches :: ['strong', 'structure', 'supple', 'chocolate']\n",
      "Lista de matches :: ['cabernet']\n"
     ]
    }
   ],
   "source": [
    "descriptionMatch(df.iloc[1,0],list(df.iloc[2:100,0]))"
   ]
  },
  {
   "cell_type": "code",
   "execution_count": null,
   "metadata": {},
   "outputs": [],
   "source": []
  }
 ],
 "metadata": {
  "kernelspec": {
   "display_name": "Python 3",
   "language": "python",
   "name": "python3"
  },
  "language_info": {
   "codemirror_mode": {
    "name": "ipython",
    "version": 3
   },
   "file_extension": ".py",
   "mimetype": "text/x-python",
   "name": "python",
   "nbconvert_exporter": "python",
   "pygments_lexer": "ipython3",
   "version": "3.7.5"
  }
 },
 "nbformat": 4,
 "nbformat_minor": 2
}
