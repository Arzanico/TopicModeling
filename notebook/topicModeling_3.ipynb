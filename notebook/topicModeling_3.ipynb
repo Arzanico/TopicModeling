{
 "cells": [
  {
   "cell_type": "markdown",
   "metadata": {},
   "source": [
    "Segunda parte del analisis de palabras para el modelado de topicos y prediccion de clases."
   ]
  },
  {
   "cell_type": "code",
   "execution_count": 5,
   "metadata": {},
   "outputs": [],
   "source": [
    "import pandas as pd"
   ]
  },
  {
   "cell_type": "code",
   "execution_count": 6,
   "metadata": {},
   "outputs": [],
   "source": [
    "# DataFrame con descripciones y varietales\n",
    "df = pd.read_csv('../data/descripciones.csv', index_col = None)\n",
    "# DataFrame con los varietales y numero de apariciones\n",
    "df1 = pd.read_csv('../data/varRec.csv', index_col = None)\n",
    "# Recuento de paralbras usadas en los varietales.\n",
    "df2 = pd.read_csv('../data/varWordRec.csv', index_col = None)"
   ]
  },
  {
   "cell_type": "code",
   "execution_count": 11,
   "metadata": {},
   "outputs": [],
   "source": [
    "#Varietales que contienen las palabras mas usadas\n",
    "dfs = list()\n",
    "for w in df2.words:\n",
    "    word = w\n",
    "    data = pd.DataFrame(pd.Series([x for x in df.variety if w in x]).value_counts()).reset_index(drop=False).rename(columns={'index':f'word {w}',0:'recuento'})\n",
    "    \n",
    "    dfs.append((data,word))"
   ]
  },
  {
   "cell_type": "code",
   "execution_count": 12,
   "metadata": {},
   "outputs": [
    {
     "data": {
      "text/plain": [
       "(          word bordeaux-style  recuento\n",
       " 0    bordeaux-style red blend      1112\n",
       " 1  bordeaux-style white blend        26, 'bordeaux-style')"
      ]
     },
     "execution_count": 12,
     "metadata": {},
     "output_type": "execute_result"
    }
   ],
   "source": [
    "dfs"
   ]
  },
  {
   "cell_type": "code",
   "execution_count": null,
   "metadata": {},
   "outputs": [],
   "source": []
  }
 ],
 "metadata": {
  "kernelspec": {
   "display_name": "Python 3",
   "language": "python",
   "name": "python3"
  },
  "language_info": {
   "codemirror_mode": {
    "name": "ipython",
    "version": 3
   },
   "file_extension": ".py",
   "mimetype": "text/x-python",
   "name": "python",
   "nbconvert_exporter": "python",
   "pygments_lexer": "ipython3",
   "version": "3.7.5"
  }
 },
 "nbformat": 4,
 "nbformat_minor": 2
}
