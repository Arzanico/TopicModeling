{
 "cells": [
  {
   "cell_type": "markdown",
   "metadata": {},
   "source": [
    "Segunda parte del analisis de palabras para el modelado de topicos y prediccion de clases."
   ]
  },
  {
   "cell_type": "code",
   "execution_count": 5,
   "metadata": {},
   "outputs": [],
   "source": [
    "import pandas as pd"
   ]
  },
  {
   "cell_type": "code",
   "execution_count": 6,
   "metadata": {},
   "outputs": [],
   "source": [
    "# DataFrame con descripciones y varietales\n",
    "df = pd.read_csv('../data/descripciones.csv', index_col = None)\n",
    "# DataFrame con los varietales y numero de apariciones\n",
    "df1 = pd.read_csv('../data/varRec.csv', index_col = None)\n",
    "# Recuento de paralbras usadas en los varietales.\n",
    "df2 = pd.read_csv('../data/varWordRec.csv', index_col = None)"
   ]
  },
  {
   "cell_type": "code",
   "execution_count": 16,
   "metadata": {},
   "outputs": [
    {
     "data": {
      "text/html": [
       "<div>\n",
       "<style scoped>\n",
       "    .dataframe tbody tr th:only-of-type {\n",
       "        vertical-align: middle;\n",
       "    }\n",
       "\n",
       "    .dataframe tbody tr th {\n",
       "        vertical-align: top;\n",
       "    }\n",
       "\n",
       "    .dataframe thead th {\n",
       "        text-align: right;\n",
       "    }\n",
       "</style>\n",
       "<table border=\"1\" class=\"dataframe\">\n",
       "  <thead>\n",
       "    <tr style=\"text-align: right;\">\n",
       "      <th></th>\n",
       "      <th>description</th>\n",
       "      <th>variety</th>\n",
       "    </tr>\n",
       "  </thead>\n",
       "  <tbody>\n",
       "    <tr>\n",
       "      <th>7352</th>\n",
       "      <td>aromas black white pepper raw meat redolent wi...</td>\n",
       "      <td>mourvèdre</td>\n",
       "    </tr>\n",
       "  </tbody>\n",
       "</table>\n",
       "</div>"
      ],
      "text/plain": [
       "                                            description    variety\n",
       "7352  aromas black white pepper raw meat redolent wi...  mourvèdre"
      ]
     },
     "execution_count": 16,
     "metadata": {},
     "output_type": "execute_result"
    }
   ],
   "source": [
    "df.sample(1)"
   ]
  },
  {
   "cell_type": "code",
   "execution_count": 17,
   "metadata": {},
   "outputs": [
    {
     "data": {
      "text/html": [
       "<div>\n",
       "<style scoped>\n",
       "    .dataframe tbody tr th:only-of-type {\n",
       "        vertical-align: middle;\n",
       "    }\n",
       "\n",
       "    .dataframe tbody tr th {\n",
       "        vertical-align: top;\n",
       "    }\n",
       "\n",
       "    .dataframe thead th {\n",
       "        text-align: right;\n",
       "    }\n",
       "</style>\n",
       "<table border=\"1\" class=\"dataframe\">\n",
       "  <thead>\n",
       "    <tr style=\"text-align: right;\">\n",
       "      <th></th>\n",
       "      <th>varietal</th>\n",
       "      <th>recuento</th>\n",
       "    </tr>\n",
       "  </thead>\n",
       "  <tbody>\n",
       "    <tr>\n",
       "      <th>44</th>\n",
       "      <td>sauvignon blanc-semillon</td>\n",
       "      <td>24</td>\n",
       "    </tr>\n",
       "  </tbody>\n",
       "</table>\n",
       "</div>"
      ],
      "text/plain": [
       "                    varietal  recuento\n",
       "44  sauvignon blanc-semillon        24"
      ]
     },
     "execution_count": 17,
     "metadata": {},
     "output_type": "execute_result"
    }
   ],
   "source": [
    "df1.sample(1)"
   ]
  },
  {
   "cell_type": "code",
   "execution_count": 18,
   "metadata": {},
   "outputs": [
    {
     "data": {
      "text/html": [
       "<div>\n",
       "<style scoped>\n",
       "    .dataframe tbody tr th:only-of-type {\n",
       "        vertical-align: middle;\n",
       "    }\n",
       "\n",
       "    .dataframe tbody tr th {\n",
       "        vertical-align: top;\n",
       "    }\n",
       "\n",
       "    .dataframe thead th {\n",
       "        text-align: right;\n",
       "    }\n",
       "</style>\n",
       "<table border=\"1\" class=\"dataframe\">\n",
       "  <thead>\n",
       "    <tr style=\"text-align: right;\">\n",
       "      <th></th>\n",
       "      <th>words</th>\n",
       "      <th>recuento</th>\n",
       "    </tr>\n",
       "  </thead>\n",
       "  <tbody>\n",
       "    <tr>\n",
       "      <th>52</th>\n",
       "      <td>marsanne</td>\n",
       "      <td>20</td>\n",
       "    </tr>\n",
       "  </tbody>\n",
       "</table>\n",
       "</div>"
      ],
      "text/plain": [
       "       words  recuento\n",
       "52  marsanne        20"
      ]
     },
     "execution_count": 18,
     "metadata": {},
     "output_type": "execute_result"
    }
   ],
   "source": [
    "df2.sample(1)"
   ]
  },
  {
   "cell_type": "code",
   "execution_count": 29,
   "metadata": {},
   "outputs": [],
   "source": [
    "#Varietales que contienen las palabras mas usadas\n",
    "dfs = list()\n",
    "for w in df2.words:\n",
    "    word = w\n",
    "    data = pd.DataFrame(pd.Series([x for x in df.variety if w in x]).value_counts()).reset_index(drop=False).rename(columns={'index':'word',0:'recuento'})\n",
    "    \n",
    "    dfs.append((data,word))"
   ]
  },
  {
   "cell_type": "markdown",
   "metadata": {},
   "source": [
    "Elementos en la lista dfs"
   ]
  },
  {
   "cell_type": "markdown",
   "metadata": {},
   "source": [
    "Voy a construir un diccionario con todas las palabras que se usaron en los varietales y luego asignar a cada clave la lista de los varietales en que aparece dicha palabra y la cantidad de veces"
   ]
  },
  {
   "cell_type": "code",
   "execution_count": 30,
   "metadata": {},
   "outputs": [
    {
     "data": {
      "text/html": [
       "<div>\n",
       "<style scoped>\n",
       "    .dataframe tbody tr th:only-of-type {\n",
       "        vertical-align: middle;\n",
       "    }\n",
       "\n",
       "    .dataframe tbody tr th {\n",
       "        vertical-align: top;\n",
       "    }\n",
       "\n",
       "    .dataframe thead th {\n",
       "        text-align: right;\n",
       "    }\n",
       "</style>\n",
       "<table border=\"1\" class=\"dataframe\">\n",
       "  <thead>\n",
       "    <tr style=\"text-align: right;\">\n",
       "      <th></th>\n",
       "      <th>word</th>\n",
       "      <th>recuento</th>\n",
       "    </tr>\n",
       "  </thead>\n",
       "  <tbody>\n",
       "    <tr>\n",
       "      <th>0</th>\n",
       "      <td>pinot noir</td>\n",
       "      <td>4788</td>\n",
       "    </tr>\n",
       "    <tr>\n",
       "      <th>1</th>\n",
       "      <td>pinot gris</td>\n",
       "      <td>269</td>\n",
       "    </tr>\n",
       "    <tr>\n",
       "      <th>2</th>\n",
       "      <td>pinot blanc</td>\n",
       "      <td>57</td>\n",
       "    </tr>\n",
       "    <tr>\n",
       "      <th>3</th>\n",
       "      <td>pinot grigio</td>\n",
       "      <td>52</td>\n",
       "    </tr>\n",
       "    <tr>\n",
       "      <th>4</th>\n",
       "      <td>pinot-chardonnay</td>\n",
       "      <td>5</td>\n",
       "    </tr>\n",
       "    <tr>\n",
       "      <th>5</th>\n",
       "      <td>pinot meunier</td>\n",
       "      <td>2</td>\n",
       "    </tr>\n",
       "    <tr>\n",
       "      <th>6</th>\n",
       "      <td>pinot noir-syrah</td>\n",
       "      <td>2</td>\n",
       "    </tr>\n",
       "    <tr>\n",
       "      <th>7</th>\n",
       "      <td>pinotage</td>\n",
       "      <td>2</td>\n",
       "    </tr>\n",
       "    <tr>\n",
       "      <th>8</th>\n",
       "      <td>pinot auxerrois</td>\n",
       "      <td>1</td>\n",
       "    </tr>\n",
       "    <tr>\n",
       "      <th>9</th>\n",
       "      <td>chardonnay-pinot blanc</td>\n",
       "      <td>1</td>\n",
       "    </tr>\n",
       "    <tr>\n",
       "      <th>10</th>\n",
       "      <td>pinot gris-gewürztraminer</td>\n",
       "      <td>1</td>\n",
       "    </tr>\n",
       "    <tr>\n",
       "      <th>11</th>\n",
       "      <td>pinot blanc-pinot noir</td>\n",
       "      <td>1</td>\n",
       "    </tr>\n",
       "  </tbody>\n",
       "</table>\n",
       "</div>"
      ],
      "text/plain": [
       "                         word  recuento\n",
       "0                  pinot noir      4788\n",
       "1                  pinot gris       269\n",
       "2                 pinot blanc        57\n",
       "3                pinot grigio        52\n",
       "4            pinot-chardonnay         5\n",
       "5               pinot meunier         2\n",
       "6            pinot noir-syrah         2\n",
       "7                    pinotage         2\n",
       "8             pinot auxerrois         1\n",
       "9      chardonnay-pinot blanc         1\n",
       "10  pinot gris-gewürztraminer         1\n",
       "11     pinot blanc-pinot noir         1"
      ]
     },
     "execution_count": 30,
     "metadata": {},
     "output_type": "execute_result"
    }
   ],
   "source": [
    "dfs[0][0]"
   ]
  },
  {
   "cell_type": "code",
   "execution_count": 31,
   "metadata": {},
   "outputs": [],
   "source": [
    "# Lo que sucede aqui es que tomamos una palabra y vemos en que varietales aparace.\n",
    "# luego creamos un diccionario que tiene como clave una palabra y como item una lista de tuplas\n",
    "# con los varietales donde aparece la palabra y cuantas veces en cada varietal\n",
    "analisisVarietales = dict()\n",
    "\n",
    "for i in dfs:\n",
    "    palabra = i[1]\n",
    "    dataFrame = i[0]\n",
    "    \n",
    "    rec = list()\n",
    "    for a, b in zip(dataFrame.word, dataFrame.recuento):\n",
    "        rec.append((a, b))\n",
    "    \n",
    "    analisisVarietales.update({\n",
    "        palabra:rec\n",
    "    }\n",
    "    )"
   ]
  },
  {
   "cell_type": "code",
   "execution_count": 58,
   "metadata": {},
   "outputs": [
    {
     "data": {
      "text/plain": [
       "('pinot noir', 4788)"
      ]
     },
     "execution_count": 58,
     "metadata": {},
     "output_type": "execute_result"
    }
   ],
   "source": [
    "# Ejemplo de uso del resultado del loop anterior\n",
    "l = [x[1] for x in analisisVarietales['pinot']]\n",
    "maxIn = l.index(max(l))\n",
    "analisisVarietales['pinot'][maxIn]\n"
   ]
  },
  {
   "cell_type": "markdown",
   "metadata": {},
   "source": [
    "************************************************"
   ]
  },
  {
   "cell_type": "code",
   "execution_count": 60,
   "metadata": {},
   "outputs": [
    {
     "name": "stdout",
     "output_type": "stream",
     "text": [
      "varietal_0 pinot noir palabra pinot varietal_1 pinot noir recuento 4788\n",
      "\n",
      "\n",
      "varietal_0 pinot noir palabra noir varietal_1 pinot noir recuento 4788\n",
      "\n",
      "\n",
      "varietal_0 chardonnay palabra chardonnay varietal_1 chardonnay recuento 2407\n",
      "\n",
      "\n",
      "varietal_0 cabernet sauvignon palabra cabernet varietal_1 cabernet sauvignon recuento 2372\n",
      "\n",
      "\n",
      "varietal_0 cabernet sauvignon palabra sauvignon varietal_1 cabernet sauvignon recuento 2372\n",
      "\n",
      "\n",
      "varietal_0 red blend palabra red varietal_1 red blend recuento 1803\n",
      "\n",
      "\n",
      "varietal_0 red blend palabra blend varietal_1 red blend recuento 1803\n",
      "\n",
      "\n",
      "varietal_0 syrah palabra syrah varietal_1 syrah recuento 1678\n",
      "\n",
      "\n",
      "varietal_0 zinfandel palabra zinfandel varietal_1 zinfandel recuento 1114\n",
      "\n",
      "\n",
      "varietal_0 bordeaux-style red blend palabra bordeaux-style varietal_1 bordeaux-style red blend recuento 1112\n",
      "\n",
      "\n",
      "varietal_0 bordeaux-style red blend palabra red varietal_1 red blend recuento 1803\n",
      "\n",
      "\n",
      "varietal_0 bordeaux-style red blend palabra blend varietal_1 red blend recuento 1803\n",
      "\n",
      "\n",
      "varietal_0 merlot palabra merlot varietal_1 merlot recuento 597\n",
      "\n",
      "\n",
      "varietal_0 sauvignon blanc palabra sauvignon varietal_1 cabernet sauvignon recuento 2372\n",
      "\n",
      "\n",
      "varietal_0 sauvignon blanc palabra blanc varietal_1 sauvignon blanc recuento 574\n",
      "\n",
      "\n",
      "varietal_0 rhône-style red blend palabra rhône-style varietal_1 rhône-style red blend recuento 516\n",
      "\n",
      "\n",
      "varietal_0 rhône-style red blend palabra red varietal_1 red blend recuento 1803\n",
      "\n",
      "\n",
      "varietal_0 rhône-style red blend palabra blend varietal_1 red blend recuento 1803\n",
      "\n",
      "\n",
      "varietal_0 riesling palabra riesling varietal_1 riesling recuento 511\n",
      "\n",
      "\n"
     ]
    }
   ],
   "source": [
    "countCtrl = 0\n",
    "\n",
    "for v in df1.varietal:\n",
    "#     if '-' in v:\n",
    "#         v = v.replace('-', ' ')\n",
    "\n",
    "    varital_0 = v\n",
    "    vS = v.split()\n",
    "    \n",
    "    for w in vS:\n",
    "        l = [x[1] for x in analisisVarietales[w]]\n",
    "        maxIn = l.index(max(l))\n",
    "        varietal_1 = analisisVarietales[w][maxIn][0]\n",
    "        varitalCount = analisisVarietales[w][maxIn][1]\n",
    "        print(f'varietal_0 {v} palabra {w} varietal_1 {varietal_1} recuento {varitalCount}')\n",
    "        print('\\n')  \n",
    "    \n",
    "    countCtrl += 1\n",
    "    \n",
    "    if countCtrl > 10 :\n",
    "        break"
   ]
  },
  {
   "cell_type": "code",
   "execution_count": null,
   "metadata": {},
   "outputs": [],
   "source": []
  }
 ],
 "metadata": {
  "kernelspec": {
   "display_name": "Python 3",
   "language": "python",
   "name": "python3"
  },
  "language_info": {
   "codemirror_mode": {
    "name": "ipython",
    "version": 3
   },
   "file_extension": ".py",
   "mimetype": "text/x-python",
   "name": "python",
   "nbconvert_exporter": "python",
   "pygments_lexer": "ipython3",
   "version": "3.7.5"
  }
 },
 "nbformat": 4,
 "nbformat_minor": 2
}
